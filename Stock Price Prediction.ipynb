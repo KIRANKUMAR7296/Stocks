{
 "metadata": {
  "language_info": {
   "codemirror_mode": {
    "name": "ipython",
    "version": 3
   },
   "file_extension": ".py",
   "mimetype": "text/x-python",
   "name": "python",
   "nbconvert_exporter": "python",
   "pygments_lexer": "ipython3",
   "version": 3
  },
  "orig_nbformat": 2,
  "kernelspec": {
   "name": "python_defaultSpec_1596593771368",
   "display_name": "Python 3.8.4 32-bit"
  }
 },
 "nbformat": 4,
 "nbformat_minor": 2,
 "cells": [
  {
   "cell_type": "markdown",
   "metadata": {},
   "source": [
    "# Predicting Stock Price\n",
    "\n",
    "* Companies use Software to Predict Movements in Stocks\n",
    "\n",
    "* This Program will Scrape a given Amount of Stocks from the Web, \n",
    "\n",
    "* Predict their Price in a Set Number of Days and Send an SMS to the User,\n",
    "\n",
    "* Informing them of Stocks that might be Good to Check out and Invest in."
   ]
  },
  {
   "cell_type": "code",
   "execution_count": 1,
   "metadata": {},
   "outputs": [],
   "source": [
    "import numpy as np\n",
    "from datetime import datetime\n",
    "import smtplib\n",
    "import time\n",
    "from selenium import webdriver\n",
    "from webdriver_manager.chrome import ChromeDriverManager\n",
    "import os\n",
    "\n",
    "# For Prediction\n",
    "from sklearn.linear_model import LinearRegression\n",
    "from sklearn.model_selection import train_test_split\n",
    "from sklearn import svm, preprocessing\n",
    "\n",
    "# For Stock Data\n",
    "from iexfinance.stocks import get_historical_data"
   ]
  },
 
  {
   "cell_type": "markdown",
   "metadata": {},
   "source": [
    "## Steps to Follow :\n",
    "\n",
    "Using the **Selenium Package** we can **Scrape Yahoo Finance Stock Screeners** (Aggresive Small Cap Stocks).\n",
    "\n",
    "Function to Retrieve Stocks."
   ]
  },
  {
   "cell_type": "code",
   "execution_count": 2,
   "metadata": {},
   "outputs": [],
   "source": [
    "def getstocks(n): # n : The Number of Stocks we Wish to Retrieve.\n",
    "    \n",
    "    # Creating Web Driver to Retrieve Web Page.  \n",
    "    driver = webdriver.Chrome(ChromeDriverManager().install()) \n",
    "\n",
    "    # URL of Yahoo Finance\n",
    "    url = \"https://finance.yahoo.com/screener/predefined/aggressive_small_caps?offset=0&count=202\"\n",
    "\n",
    "    # Retrieve the Web Page by it's URL.\n",
    "    driver.get(url) \n",
    "\n",
    "    # Creating a Stock List\n",
    "    stock_list = []\n",
    "    n += 1\n",
    "\n",
    "    # Iterating through Each Symbol Tickers\n",
    "    for i in range(1, n):\n",
    "        ticker = driver.find_element_by_xpath('//*[@id=\"scr-res-table\"]/div[1]/table/tbody/tr['+str(i)+']/td[1]/a')\n",
    "        stock_list.append(ticker.text)\n",
    "\n",
    "    driver.quit() # Exit Web Browser\n",
    "\n",
    "    # Using Stock List to Predict Future Price of the Stock\n",
    "    number = 0\n",
    "\n",
    "    for i in stock_list:\n",
    "        print(f'Number : {str(number)}')\n",
    "        try:\n",
    "            predictData(i,5) # 5 Days\n",
    "        except:\n",
    "            print(f'Stock : {i} was not Predicted')\n",
    "        number += 1    "
   ]
  },
  {
   "cell_type": "markdown",
   "metadata": {},
   "source": [
    "## Predict the Stocks\n",
    "\n",
    "* Using 3 Years of Data for Prediction\n",
    "\n",
    "* **iexfinance** Function to get **Historical Data** of the Stocks."
   ]
  },
  {
   "cell_type": "code",
   "execution_count": 3,
   "metadata": {},
   "outputs": [],
   "source": [
    "def predictData(stock, days):\n",
    "\n",
    "    print(stock)\n",
    "    \n",
    "    start = datetime(2017,1,1)\n",
    "    \n",
    "    end = datetime.now()\n",
    "    \n",
    "    data = get_historical_data(stock, start=start, end=end, output_format='pandas')\n",
    "    \n",
    "    if os.path.exists('./Exports'): # If Path Exist then Save the CSV File\n",
    "    \n",
    "        csv_file = ('Exports/' + stock + '_Export.csv')\n",
    "        \n",
    "    else:\n",
    "        \n",
    "        os.mkdir('Exports') # Create a Directory named Exports and Save the CSV File\n",
    "        \n",
    "        csv_file = ('Exports/' + stock + '_Export.csv')\n",
    "        \n",
    "    data.to_csv(csv_file)\n",
    "        \n",
    "    data['Prediction'] = data['close'].shift(-1)\n",
    "    \n",
    "    data.dropna(inplace = True)\n",
    "    \n",
    "    forecast = int(days)\n",
    "    \n",
    "    # Predicting Stock Price in the Future.\n",
    "\n",
    "    x = np.array(data.drop(['Prediction'],1))\n",
    "    y = np.array(data['Prediction'])\n",
    "    x = preprocessing.scale(x)\n",
    "    x_prediction = x[-forecast] # X_Test Data\n",
    "    \n",
    "    # Splitting Data into Train Set and Test Set\n",
    "    x_train, y_train, y_test = train_test_split(x, y, test_size=0.5)\n",
    "    \n",
    "    # Creating Linear Regression Model\n",
    "    model = LinearRegression()\n",
    "    \n",
    "    # Fitting Model on Train and Test Set\n",
    "    model.fit(x_train, y_train)\n",
    "    \n",
    "    # Prediction of Model on X_Test\n",
    "    prediction = model.predict(x_prediction)\n",
    "    \n",
    "    last_row = data.tail(1)\n",
    "    \n",
    "    print(last_row['close'])\n",
    "\n",
    "    # Sending SMS if Predicted Price of Stock is atleast 1 Greater than Previous Closing Price.\n",
    "    if (float(prediction[4]) > (float(last_row['close'])) + 1):\n",
    "        output = (\"\\n\\nStock:\" + str(stock) + \"\\nPrior Close:\\n\" + str(last_row['close']) + \"\\n\\nPrediction in 1 Day: \" + str(prediction[0]) + \"\\nPrediction in 5 Days: \" + str(prediction[4]))\n",
    "\n",
    "        sendMessage(output)\n"
   ]
  },
  {
   "cell_type": "markdown",
   "metadata": {},
   "source": [
    "## Send Message\n",
    "\n",
    "**GMAIL :**\n",
    "\n",
    "* Go to **Security Settings** of your **Email Account** and **Enable** the **\"Allow Less Secure Apps\"** Option."
   ]
  },
  {
   "cell_type": "code",
   "execution_count": 4,
   "metadata": {},
   "outputs": [],
   "source": [
    "def  send_message(text):\n",
    "    username = \"abc\"\n",
    "    password = \"abc@123\"\n",
    "    vtext = \"abc@vtext.com\"\n",
    "    message = text\n",
    "\n",
    "    msg = \"\"\"From : %s\n",
    "    To : %s\n",
    "    %s\"\"\"%(username, vtext, message)\n",
    "\n",
    "    server = smtplib.SMTP('smtp.gmail.com', 587) # Default Mail Submission Port\n",
    "    server.starttls() # Protocol Command to Inform Mail Server for Secure Connection.\n",
    "    server.login(username, password)\n",
    "    server.sendmail(username, vtext, msg)\n",
    "    server.quit()\n",
    "\n",
    "    print(f'Mail Sent')"
   ]
  },
  {
   "cell_type": "code",
   "execution_count": 5,
   "metadata": {
    "tags": []
   },
   "outputs": [
    {
     "output_type": "stream",
     "name": "stderr",
     "text": "[WDM] - Current google-chrome version is 84.0.4147\n[WDM] - Get LATEST driver version for 84.0.4147\n \n[WDM] - There is no [win32] chromedriver for browser 84.0.4147 in cache\n[WDM] - Get LATEST driver version for 84.0.4147\n[WDM] - Trying to download new driver from http://chromedriver.storage.googleapis.com/84.0.4147.30/chromedriver_win32.zip\n[WDM] - Driver has been saved in cache [C:\\Users\\30865\\.wdm\\drivers\\chromedriver\\win32\\84.0.4147.30]\nNumber : 0\nASNA\nStock : ASNA was not Predicted\nNumber : 1\nACB\nStock : ACB was not Predicted\nNumber : 2\nRIG\nStock : RIG was not Predicted\nNumber : 3\nHMHC\nStock : HMHC was not Predicted\nNumber : 4\nKOS\nStock : KOS was not Predicted\nNumber : 5\nHEXO\nStock : HEXO was not Predicted\nNumber : 6\nAPHA\nStock : APHA was not Predicted\nNumber : 7\nYRCW\nStock : YRCW was not Predicted\nNumber : 8\nVAL\nStock : VAL was not Predicted\nNumber : 9\nCBL\nStock : CBL was not Predicted\nNumber : 10\nEXK\nStock : EXK was not Predicted\nNumber : 11\nOIBR-C\nStock : OIBR-C was not Predicted\nNumber : 12\nFET\nStock : FET was not Predicted\nNumber : 13\nINSG\nStock : INSG was not Predicted\nNumber : 14\nTLRY\nStock : TLRY was not Predicted\nNumber : 15\nDXLG\nStock : DXLG was not Predicted\nNumber : 16\nKDMN\nStock : KDMN was not Predicted\nNumber : 17\nATI\nStock : ATI was not Predicted\nNumber : 18\nTWO\nStock : TWO was not Predicted\nNumber : 19\nTTI\nStock : TTI was not Predicted\nNumber : 20\nBEST\nStock : BEST was not Predicted\nNumber : 21\nDRTT\nStock : DRTT was not Predicted\nNumber : 22\nPTEN\nStock : PTEN was not Predicted\nNumber : 23\nZVO\nStock : ZVO was not Predicted\nNumber : 24\nWTRH\nStock : WTRH was not Predicted\nNumber : 25\nSNDL\nStock : SNDL was not Predicted\nNumber : 26\nCLNY\nStock : CLNY was not Predicted\nNumber : 27\nJKS\nStock : JKS was not Predicted\nNumber : 28\nBLU\nStock : BLU was not Predicted\nNumber : 29\nENLC\nStock : ENLC was not Predicted\nNumber : 30\nCRK\nStock : CRK was not Predicted\nNumber : 31\nSLCA\nStock : SLCA was not Predicted\nNumber : 32\nMUX\nStock : MUX was not Predicted\nNumber : 33\nCVEO\nStock : CVEO was not Predicted\nNumber : 34\nFRO\nStock : FRO was not Predicted\nNumber : 35\nMNLO\nStock : MNLO was not Predicted\nNumber : 36\nEVH\nStock : EVH was not Predicted\nNumber : 37\nBBAR\nStock : BBAR was not Predicted\nNumber : 38\nIVR\nStock : IVR was not Predicted\nNumber : 39\nOII\nStock : OII was not Predicted\nNumber : 40\nCPG\nStock : CPG was not Predicted\nNumber : 41\nCNDT\nStock : CNDT was not Predicted\nNumber : 42\nHP\nStock : HP was not Predicted\nNumber : 43\nGERN\nStock : GERN was not Predicted\nNumber : 44\nEHTH\nStock : EHTH was not Predicted\nNumber : 45\nPEB\nStock : PEB was not Predicted\nNumber : 46\nEXPR\nStock : EXPR was not Predicted\nNumber : 47\nEGHT\nStock : EGHT was not Predicted\nNumber : 48\nACOR\nStock : ACOR was not Predicted\nNumber : 49\nRRD\nStock : RRD was not Predicted\nNumber : 50\nTRUE\nStock : TRUE was not Predicted\nNumber : 51\nDBI\nStock : DBI was not Predicted\nNumber : 52\nDDD\nStock : DDD was not Predicted\nNumber : 53\nNLS\nStock : NLS was not Predicted\nNumber : 54\nNSL\nStock : NSL was not Predicted\nNumber : 55\nCHAP\nStock : CHAP was not Predicted\nNumber : 56\nTTMI\nStock : TTMI was not Predicted\nNumber : 57\nAZUL\nStock : AZUL was not Predicted\nNumber : 58\nCSLT\nStock : CSLT was not Predicted\nNumber : 59\nOXLC\nStock : OXLC was not Predicted\nNumber : 60\nGOGO\nStock : GOGO was not Predicted\nNumber : 61\nASRT\nStock : ASRT was not Predicted\nNumber : 62\nAMC\nStock : AMC was not Predicted\nNumber : 63\nPDCE\nStock : PDCE was not Predicted\nNumber : 64\nINMD\nStock : INMD was not Predicted\nNumber : 65\nPDLI\nStock : PDLI was not Predicted\nNumber : 66\nSHLO\nStock : SHLO was not Predicted\nNumber : 67\nBTE\nStock : BTE was not Predicted\nNumber : 68\nGSM\nStock : GSM was not Predicted\nNumber : 69\nBIG\nStock : BIG was not Predicted\nNumber : 70\nEPZM\nStock : EPZM was not Predicted\nNumber : 71\nEXTR\nStock : EXTR was not Predicted\nNumber : 72\nPRTS\nStock : PRTS was not Predicted\nNumber : 73\nDRH\nStock : DRH was not Predicted\nNumber : 74\nPVAC\nStock : PVAC was not Predicted\nNumber : 75\nSTRL\nStock : STRL was not Predicted\nNumber : 76\nAMRX\nStock : AMRX was not Predicted\nNumber : 77\nAXL\nStock : AXL was not Predicted\nNumber : 78\nCATM\nStock : CATM was not Predicted\nNumber : 79\nPI\nStock : PI was not Predicted\nNumber : 80\nSUM\nStock : SUM was not Predicted\nNumber : 81\nSSYS\nStock : SSYS was not Predicted\nNumber : 82\nKIRK\nStock : KIRK was not Predicted\nNumber : 83\nGOL\nStock : GOL was not Predicted\nNumber : 84\nPLT\nStock : PLT was not Predicted\nNumber : 85\nDS\nStock : DS was not Predicted\nNumber : 86\nCCO\nStock : CCO was not Predicted\nNumber : 87\nDEA\nStock : DEA was not Predicted\nNumber : 88\nGRPN\nStock : GRPN was not Predicted\nNumber : 89\nPAM\nStock : PAM was not Predicted\nNumber : 90\nWIFI\nStock : WIFI was not Predicted\nNumber : 91\nWRE\nStock : WRE was not Predicted\nNumber : 92\nTORC\nStock : TORC was not Predicted\nNumber : 93\nBMA\nStock : BMA was not Predicted\nNumber : 94\nNBR\nStock : NBR was not Predicted\nNumber : 95\nHT\nStock : HT was not Predicted\nNumber : 96\nSGMS\nStock : SGMS was not Predicted\nNumber : 97\nCSIQ\nStock : CSIQ was not Predicted\nNumber : 98\nORC\nStock : ORC was not Predicted\nNumber : 99\nKLIC\nStock : KLIC was not Predicted\nNumber : 100\nGLDD\nStock : GLDD was not Predicted\nNumber : 101\nMWA\nStock : MWA was not Predicted\nNumber : 102\nRPT\nStock : RPT was not Predicted\nNumber : 103\nTEN\nStock : TEN was not Predicted\nNumber : 104\nRGS\nStock : RGS was not Predicted\nNumber : 105\nTK\nStock : TK was not Predicted\nNumber : 106\nDQ\nStock : DQ was not Predicted\nNumber : 107\nBNED\nStock : BNED was not Predicted\nNumber : 108\nTALO\nStock : TALO was not Predicted\nNumber : 109\nHTH\nStock : HTH was not Predicted\nNumber : 110\nMD\nStock : MD was not Predicted\nNumber : 111\nOSMT\nStock : OSMT was not Predicted\nNumber : 112\nVGR\nStock : VGR was not Predicted\nNumber : 113\nGPRE\nStock : GPRE was not Predicted\nNumber : 114\nATSG\nStock : ATSG was not Predicted\nNumber : 115\nGFF\nStock : GFF was not Predicted\nNumber : 116\nBSIG\nStock : BSIG was not Predicted\nNumber : 117\nCAL\nStock : CAL was not Predicted\nNumber : 118\nCRNC\nStock : CRNC was not Predicted\nNumber : 119\nEB\nStock : EB was not Predicted\nNumber : 120\nUIS\nStock : UIS was not Predicted\nNumber : 121\nFI\nStock : FI was not Predicted\nNumber : 122\nHSC\nStock : HSC was not Predicted\nNumber : 123\nAHT\nStock : AHT was not Predicted\nNumber : 124\nQUOT\nStock : QUOT was not Predicted\nNumber : 125\nERJ\nStock : ERJ was not Predicted\nNumber : 126\nPRFT\nStock : PRFT was not Predicted\nNumber : 127\nTAST\nStock : TAST was not Predicted\nNumber : 128\nTEDU\nStock : TEDU was not Predicted\nNumber : 129\nVRTU\nStock : VRTU was not Predicted\nNumber : 130\nBKCC\nStock : BKCC was not Predicted\nNumber : 131\nETM\nStock : ETM was not Predicted\nNumber : 132\nKRA\nStock : KRA was not Predicted\nNumber : 133\nRCII\nStock : RCII was not Predicted\nNumber : 134\nRCUS\nStock : RCUS was not Predicted\nNumber : 135\nATGE\nStock : ATGE was not Predicted\nNumber : 136\nVTA\nStock : VTA was not Predicted\nNumber : 137\nEPRT\nStock : EPRT was not Predicted\nNumber : 138\nREGI\nStock : REGI was not Predicted\nNumber : 139\nAGRO\nStock : AGRO was not Predicted\nNumber : 140\nNCNA\nStock : NCNA was not Predicted\nNumber : 141\nHZO\nStock : HZO was not Predicted\nNumber : 142\nUXIN\nStock : UXIN was not Predicted\nNumber : 143\nMR\nStock : MR was not Predicted\nNumber : 144\nJQC\nStock : JQC was not Predicted\nNumber : 145\nATKR\nStock : ATKR was not Predicted\nNumber : 146\nJRO\nStock : JRO was not Predicted\nNumber : 147\nCLNC\nStock : CLNC was not Predicted\nNumber : 148\nSND\nStock : SND was not Predicted\nNumber : 149\nPHK\nStock : PHK was not Predicted\nNumber : 150\nODP\nStock : ODP was not Predicted\nNumber : 151\nSUP\nStock : SUP was not Predicted\nNumber : 152\nMDP\nStock : MDP was not Predicted\nNumber : 153\nMDLY\nStock : MDLY was not Predicted\nNumber : 154\nGCO\nStock : GCO was not Predicted\nNumber : 155\nUSAC\nStock : USAC was not Predicted\nNumber : 156\nCMO\nStock : CMO was not Predicted\nNumber : 157\nNTGR\nStock : NTGR was not Predicted\nNumber : 158\nLTRPA\nStock : LTRPA was not Predicted\nNumber : 159\nTISI\nStock : TISI was not Predicted\nNumber : 160\nFTAI\nStock : FTAI was not Predicted\nNumber : 161\nPTY\nStock : PTY was not Predicted\nNumber : 162\nOIS\nStock : OIS was not Predicted\nNumber : 163\nAGYS\nStock : AGYS was not Predicted\nNumber : 164\nBITA\nStock : BITA was not Predicted\nNumber : 165\nFIXX\nStock : FIXX was not Predicted\nNumber : 166\nAMBC\nStock : AMBC was not Predicted\nNumber : 167\nMNRL\nStock : MNRL was not Predicted\nNumber : 168\nTWI\nStock : TWI was not Predicted\nNumber : 169\nHMI\nStock : HMI was not Predicted\nNumber : 170\nGNL\nStock : GNL was not Predicted\nNumber : 171\nMG\nStock : MG was not Predicted\nNumber : 172\nRNWK\nStock : RNWK was not Predicted\nNumber : 173\nBHR\nStock : BHR was not Predicted\nNumber : 174\nSRGA\nStock : SRGA was not Predicted\nNumber : 175\nRGNX\nStock : RGNX was not Predicted\nNumber : 176\nQUAD\nStock : QUAD was not Predicted\nNumber : 177\nEEX\nStock : EEX was not Predicted\nNumber : 178\nCHMI\nStock : CHMI was not Predicted\nNumber : 179\nPERI\nStock : PERI was not Predicted\nNumber : 180\nRBBN\nStock : RBBN was not Predicted\nNumber : 181\nAPTS\nStock : APTS was not Predicted\nNumber : 182\nZYME\nStock : ZYME was not Predicted\nNumber : 183\nAUTL\nStock : AUTL was not Predicted\nNumber : 184\nGBX\nStock : GBX was not Predicted\nNumber : 185\nROYT\nStock : ROYT was not Predicted\nNumber : 186\nFPH\nStock : FPH was not Predicted\nNumber : 187\nGTHX\nStock : GTHX was not Predicted\nNumber : 188\nMHO\nStock : MHO was not Predicted\nNumber : 189\nCMP\nStock : CMP was not Predicted\nNumber : 190\nCOWN\nStock : COWN was not Predicted\nNumber : 191\nREVG\nStock : REVG was not Predicted\nNumber : 192\nSMLP\nStock : SMLP was not Predicted\nNumber : 193\nMBI\nStock : MBI was not Predicted\nNumber : 194\nHESM\nStock : HESM was not Predicted\nNumber : 195\nPFN\nStock : PFN was not Predicted\nNumber : 196\nCRESY\nStock : CRESY was not Predicted\nNumber : 197\nMMYT\nStock : MMYT was not Predicted\nNumber : 198\nAGS\nStock : AGS was not Predicted\nNumber : 199\nEPAC\nStock : EPAC was not Predicted\n"
    }
   ],
   "source": [
    "if __name__ == '__main__':\n",
    "    getstocks(200)"
   ]
  }
 ]
}
